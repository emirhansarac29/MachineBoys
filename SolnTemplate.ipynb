{
 "cells": [
  {
   "cell_type": "markdown",
   "metadata": {},
   "source": [
    "<h1><center>CMPE 462 - Project 1<br>Binary Classification with Logistic Regression<br>Due: April 23, 2020, 23:59</center></h1>"
   ]
  },
  {
   "cell_type": "markdown",
   "metadata": {},
   "source": [
    "* **Student ID1:**\n",
    "* **Student ID2:**\n",
    "* **Student ID3:**"
   ]
  },
  {
   "cell_type": "markdown",
   "metadata": {},
   "source": [
    "# Overview\n",
    "\n",
    "In this project, you are going to implement logistic regression from scratch. You are provided\n",
    "a subset of the famous handwritten digit dataset called MNIST. In the subset, you will find images of digit 1 and 5. Therefore, you will be solving a binary classification problem. The project includes feature extraction, model training, and evaluation steps.\n",
    "\n",
    "First, you will load and visualize the data portion we have provided to you and then extract two different set of features to build a classifier on. When you extracted the desired features, you will run your logistic regression implementation with gradient descent on the representations to classify digits into 1 and 5. You will experiment with different learning rates  and regularization parameter ($\\lambda$) and find the optimal $\\lambda$ with 5-fold cross validation. Finally, you will evaluate the implemented models, decide which is the best performing one and visualize a decision boundary.\n",
    "\n",
    "Follow the steps on this notebook that would guide you through the solution step-by-step. Make sure that the notebook reports your work properly and add comments and opinions when necessary."
   ]
  },
  {
   "cell_type": "markdown",
   "metadata": {},
   "source": [
    "**IMPORTANT NOTE:** You are allowed to use third-party libraries such as `numpy` and `matplotlib` to help you implement necessary procedures. However, you should not import any function that accomplishes the task itself. For instance, you can use `numpy` arrays for matrix operations, but you cannot use `scikit-learn` to implement cross validation."
   ]
  },
  {
   "cell_type": "markdown",
   "metadata": {},
   "source": [
    "## Task 1: Feature Extraction (35 Pts)"
   ]
  },
  {
   "cell_type": "markdown",
   "metadata": {},
   "source": [
    "Load the training/test data and labels as numpy arrays (Hint:`np.load`). Train and test data are 1561x256 and 424x256 dimensional matrices, respectively. Each row in the\n",
    "aforementioned matrices corresponds to an image of a digit. The 256 pixels correspond to a 16x16 image. Label 1 is assigned to digit 1 and label -1 is assigned to digit 5."
   ]
  },
  {
   "cell_type": "code",
   "execution_count": 1,
   "metadata": {},
   "outputs": [],
   "source": [
    "import numpy as np\n",
    "import matplotlib.pyplot as plt\n",
    "\n",
    "TRAIN_SET = np.load('data/train_data.npy')\n",
    "TRAIN_LABELS = np.load('data/train_labels.npy').reshape(-1,1)\n",
    "\n",
    "TEST_SET = np.load('data/test_data.npy')\n",
    "TEST_LABELS = np.load('data/test_labels.npy').reshape(-1,1)\n",
    "\n",
    "TRAIN_ROW, TRAIN_COLUMN = TRAIN_SET.shape\n",
    "TEST_ROW, TEST_COLUMN = TEST_SET.shape"
   ]
  },
  {
   "cell_type": "markdown",
   "metadata": {},
   "source": [
    "**(5 points)** Display two of the digit images, one for digit 1 and one for digit 5. You can use `imshow` function of `matplotlib` library with a suitable colormap. You will first need to reshape 256 pixels to a 16x16 matrix. "
   ]
  },
  {
   "cell_type": "code",
   "execution_count": 2,
   "metadata": {},
   "outputs": [
    {
     "data": {
      "image/png": "[encoded data removed]",
      "text/plain": [
       "<Figure size 864x864 with 2 Axes>"
      ]
     },
     "metadata": {
      "needs_background": "light"
     },
     "output_type": "display_data"
    }
   ],
   "source": [
    "digit_one_img = TRAIN_SET[np.where(TRAIN_LABELS==1)[0][0]].reshape(16,16)\n",
    "digit_five_img = TRAIN_SET[np.where(TRAIN_LABELS==-1)[0][0]].reshape(16,16)\n",
    "\n",
    "fig=plt.figure(figsize=(12, 12))\n",
    "fig.add_subplot(121)\n",
    "plt.imshow(digit_one_img, cmap='Greys',  interpolation='nearest')\n",
    "\n",
    "fig.add_subplot(122)\n",
    "plt.imshow(digit_five_img, cmap='Greys',  interpolation='nearest')\n",
    "\n",
    "plt.show()"
   ]
  },
  {
   "cell_type": "markdown",
   "metadata": {},
   "source": [
    "**(10 points) Implementing Representation 1:** Extract the **symmetry** and **average intensity** features discussed in the class (see logistic regression lecture notes). To compute the intensity features, compute the average pixel value of the image, and for the symmetry feature, compute the negative of the norm of the difference between the image and its y-axis symmetrical. Search numpy's documentation to find the suitable function at each step. You should extract these two features for each image in the training and test sets. As a result, you should obtain a training data matrix of size 1561x2 and test data matrix of size 424x2.\n",
    "\n",
    "Throughout the notebook, we will refer the representation with these two features as **Representation 1** "
   ]
  },
  {
   "cell_type": "code",
   "execution_count": 3,
   "metadata": {},
   "outputs": [],
   "source": [
    "R1_TRAIN = np.zeros([TRAIN_ROW, 2])\n",
    "#average intensity\n",
    "R1_TRAIN[:,0] = np.mean(TRAIN_SET, axis=1)\n",
    "#symmetry\n",
    "flipped_set = np.fliplr(TRAIN_SET.reshape(-1,16)).reshape(-1,256)\n",
    "R1_TRAIN[:,1] = -np.mean(np.absolute(TRAIN_SET - flipped_set), axis=1)\n",
    "\n",
    "R1_TEST = np.zeros([TEST_ROW, 2])\n",
    "#average intensity\n",
    "R1_TEST[:,0] = np.mean(TEST_SET, axis=1)\n",
    "#symmetry\n",
    "flipped_set = np.fliplr(TEST_SET.reshape(-1,16)).reshape(-1,256)\n",
    "R1_TEST[:,1] = -np.mean(np.absolute(TEST_SET - flipped_set), axis=1)\n",
    "\n",
    "R1_TRAIN = np.append(np.ones((TRAIN_ROW,1)), R1_TRAIN, axis =1 )\n",
    "R1_TEST = np.append(np.ones((TEST_ROW,1)), R1_TEST, axis =1 )"
   ]
  },
  {
   "cell_type": "markdown",
   "metadata": {},
   "source": [
    "**(5 points)** Provide two scatter plots, one for training and one for test data. The plots should contain the average intensity values in the x-axis and symmetry values in the\n",
    "y-axis. Denote the data points of label 1 with blue marker shaped <font color='blue'>o</font> and the data points of label -1 with a red marker shaped <font color='red'>x</font>. (Hint: check out `plt.scatter` and its `marker` and `color` parameters). Explicitly state the axis labels and figure title for both plots (Hint: `plt.xlabel`, `plt.ylabel`, `plt.title`). "
   ]
  },
  {
   "cell_type": "code",
   "execution_count": null,
   "metadata": {},
   "outputs": [],
   "source": [
    "fig = plt.figure(figsize=(14, 4))\n",
    "\n",
    "train_plot = fig.add_subplot(121)\n",
    "TRAIN_ONE = R1_TRAIN[np.where(TRAIN_LABELS.reshape(-1,) == 1)]\n",
    "TRAIN_FIVE = R1_TRAIN[np.where(TRAIN_LABELS.reshape(-1,) == -1)]\n",
    "plt.scatter(TRAIN_ONE[:,1], TRAIN_ONE[:,2], facecolors='none', c='blue',marker='o')\n",
    "plt.scatter(TRAIN_FIVE[:,1], TRAIN_FIVE[:,2], facecolors='none', c='red',marker='x')\n",
    "\n",
    "test_plot = fig.add_subplot(122)\n",
    "TEST_ONE = R1_TEST[np.where(TEST_LABELS.reshape(-1,) == 1)]\n",
    "TEST_FIVE = R1_TEST[np.where(TEST_LABELS.reshape(-1,) == -1)]\n",
    "plt.scatter(TEST_ONE[:,1], TEST_ONE[:,2], facecolors='none', c='blue',marker='o')\n",
    "plt.scatter(TEST_FIVE[:,1], TEST_FIVE[:,2], facecolors='none', c='red',marker='x')\n",
    "    \n",
    "train_plot.title.set_text('Train Data')\n",
    "train_plot.set_xlabel('Intensity')\n",
    "train_plot.set_ylabel('Symmetry')\n",
    "\n",
    "\n",
    "test_plot.title.set_text('Test Data')\n",
    "test_plot.set_xlabel('Intensity')\n",
    "test_plot.set_ylabel('Symmetry')\n",
    "\n",
    "fig.tight_layout()\n",
    "plt.show()"
   ]
  },
  {
   "cell_type": "markdown",
   "metadata": {},
   "source": [
    "**(15 points) Implementing Representation 2:** Come up with an alternative feature extraction approach. The features can again be 2-D, or higher dimensional. If you use any external resource, please cite the references. Explain the feature extraction procedure clearly in your report; if it is an algorithm, provide the algorithm; if it is a function, provide the mathematical expressions. \n",
    "\n",
    "If your proposed features are 2-D or 3-D, provide the scatter plots similar to the previous step.\n",
    "\n",
    "We will refer this representation proposed by you as **Representation 2**."
   ]
  },
  {
   "cell_type": "code",
   "execution_count": null,
   "metadata": {},
   "outputs": [],
   "source": [
    "def pixel_stats_from_image(im):\n",
    "    binarized = 1.0 * (im > 0.25)\n",
    "    axis_means = []\n",
    "    for row in binarized:\n",
    "        ones = np.where(row==1)\n",
    "        if len(ones[0]) > 0:\n",
    "            axis_means.append(np.mean(ones[0]))\n",
    "    return np.std(axis_means), np.mean(axis_means)"
   ]
  },
  {
   "cell_type": "code",
   "execution_count": null,
   "metadata": {},
   "outputs": [],
   "source": [
    "REPRESENTATION_2_TRAIN = np.empty([TRAIN_SET.shape[0], 2])\n",
    "for idx,im in enumerate(TRAIN_SET):\n",
    "    stats = pixel_stats_from_image(im.reshape(16,16))\n",
    "    REPRESENTATION_2_TRAIN[idx][0] = stats[0]\n",
    "    REPRESENTATION_2_TRAIN[idx][1] = stats[1]\n",
    "    \n",
    "REPRESENTATION_2_TEST = np.empty([TEST_SET.shape[0], 2])\n",
    "for idx,im in enumerate(TEST_SET):\n",
    "    stats = pixel_stats_from_image(im.reshape(16,16))\n",
    "    REPRESENTATION_2_TEST[idx][0] = stats[0]\n",
    "    REPRESENTATION_2_TEST[idx][1] = stats[1]"
   ]
  },
  {
   "cell_type": "code",
   "execution_count": null,
   "metadata": {},
   "outputs": [],
   "source": [
    "fig = plt.figure(figsize=(16, 4))\n",
    "\n",
    "train_plot = fig.add_subplot(121)\n",
    "colors=['blue' if i==1 else 'red' for i in TRAIN_LABELS]\n",
    "markers=['o' if i==1 else 'x' for i in TRAIN_LABELS]\n",
    "for x, y, c, m in zip(REPRESENTATION_2_TRAIN[:,0], REPRESENTATION_2_TRAIN[:,1], colors, markers):\n",
    "    plt.scatter(x, y, alpha=0.8, facecolors='none', c=c,marker=m)\n",
    "    \n",
    "test_plot = fig.add_subplot(122)\n",
    "colors=['blue' if i==1 else 'red' for i in TEST_LABELS]\n",
    "markers=['o' if i==1 else 'x' for i in TEST_LABELS]\n",
    "for x, y, c, m in zip(REPRESENTATION_2_TEST[:,0], REPRESENTATION_2_TEST[:,1], colors, markers):\n",
    "    plt.scatter(x, y, alpha=0.8, facecolors='none', c=c,marker=m)\n",
    "    \n",
    "train_plot.title.set_text('Train Data')\n",
    "test_plot.title.set_text('Test Data')\n",
    "fig.tight_layout()\n",
    "plt.show()"
   ]
  },
  {
   "cell_type": "markdown",
   "metadata": {},
   "source": [
    "## Task 2: Logistic Regression (40 Pts)"
   ]
  },
  {
   "cell_type": "markdown",
   "metadata": {},
   "source": [
    "**(20 points)** Implement the logistic regression classifier from scratch with gradient descent and train it using Representation 1 and Representation 2 as inputs. Concatenate\n",
    "1 to your features for the intercept term, such that one data point will look like for 2-D features [1,$x_1$,$x_2$], and the model vector will be [$w_0, w_1, w_2$], where $w_0$ is the intercept parameter. \n",
    "You can refer to lecture notes (Logistic regression slides 29-30) to review the gradient descent learning algorithm and the logistic loss. To implement the gradient of the logistic loss with respect to $w$, first derive its expression by hand. Please include your derivation in your report.\n",
    "\n",
    "To prove that your implementation is converging, keep the loss values at each gradient descent iteration in a numpy array. After the training is finalized, plot the loss values\n",
    "with respect to iteration count (Hint: `plt.plot`). You should observe a decreasing loss as the number of iterations increases. Also, experiment with 5 different learning rates between 0 and 1, and plot the convergence curves for each learning rate in the same plot to observe the effect of the learning rate (step size) on the convergence. \n",
    "\n",
    "To decide when to terminate the gradient descent iterations, check the absolute difference between the current loss value and the loss value of the previous step. If the difference is less than a small number, such as $10^{-5}$, you can exit the loop."
   ]
  },
  {
   "cell_type": "code",
   "execution_count": 4,
   "metadata": {},
   "outputs": [],
   "source": [
    "def sigmoid(data):\n",
    "    return 1/(1+np.exp(-data))\n",
    "\n",
    "def predict(weights, data):\n",
    "    probs = sigmoid(np.sum(data@(weights.reshape(-1,1)),axis=1))\n",
    "    probs[probs > 0.5] = 1\n",
    "    probs[probs <= 0.5] = -1\n",
    "    return probs\n",
    "\n",
    "def accuracy(weights, data, label):\n",
    "    pred = predict(weights, data)\n",
    "    return (pred.reshape(-1,1) == label).sum() / label.shape[0]\n",
    "    \n",
    "def calculate_loss(data, label, coefficients):\n",
    "    YWX = np.exp(-label * (data@coefficients))\n",
    "    return np.sum(np.log(1 + YWX),axis=0) / TRAIN_ROW\n",
    "\n",
    "def calculate_gradient(data, label, coefficients):\n",
    "    YX = label * data\n",
    "    YWX = np.exp(label * (data@coefficients))\n",
    "    return np.sum(-YX / (1 + YWX),axis=0) / TRAIN_ROW\n",
    "\n",
    "def gradient_descent(data, label, coefficients, learning_rate):\n",
    "    loss_history = np.zeros((0, 1))\n",
    "    while True:\n",
    "        gradient = calculate_gradient(data, label, coefficients)\n",
    "        coefficients = coefficients - (gradient.reshape(3,1) * learning_rate)\n",
    "        loss_history = np.append(loss_history, calculate_loss(data, label, coefficients))\n",
    "        if (len(loss_history) > 1 and np.abs(loss_history[-1] - loss_history[-2]) < 1e-5):\n",
    "            break\n",
    "    return loss_history, coefficients"
   ]
  },
  {
   "cell_type": "code",
   "execution_count": null,
   "metadata": {},
   "outputs": [],
   "source": [
    "learningRates = np.array([0.01, 0.05, 0.1, 0.2, 0.5])\n",
    "colors = ['b', 'g', 'r', 'c', 'm']\n",
    "\n",
    "plt.figure(figsize=(8, 8))\n",
    "\n",
    "for pos in range(len(learningRates)):\n",
    "    coefficients = np.random.normal(0,0.5,3).reshape(3,1)\n",
    "    cost_history, params_optimal = gradient_descent(R1_TRAIN, TRAIN_LABELS, coefficients, learningRates[pos])\n",
    "    plt.plot(range(len(cost_history)), cost_history, colors[pos])\n",
    "\n",
    "plt.title(\"Convergence Graph of Loss Function\")\n",
    "plt.xlabel(\"Number of Iterations\")\n",
    "plt.ylabel(\"Loss\")\n",
    "plt.show()\n",
    "    "
   ]
  },
  {
   "cell_type": "code",
   "execution_count": null,
   "metadata": {},
   "outputs": [],
   "source": [
    "accuracy(params_optimal, R1_TEST, TEST_LABELS)"
   ]
  },
  {
   "cell_type": "markdown",
   "metadata": {},
   "source": [
    "**(10 points)** Implement logistic regression with $\\ell_2$ norm regularization, $||\\mathbf{w}||_{2}^{2}$ . Show that your implementation is working by visualizing the loss over the iterations again. Visualization for a single learning rate and $\\lambda$ suffices. "
   ]
  },
  {
   "cell_type": "code",
   "execution_count": 5,
   "metadata": {},
   "outputs": [],
   "source": [
    "def regularized_calculate_loss(data, label, coefficients, penalty):\n",
    "    return calculate_loss(data, label, coefficients) + ((penalty/2)*(np.linalg.norm(coefficients,2)**2))\n",
    "\n",
    "def regularized_calculate_gradient(data,label,coefficients,penalty):\n",
    "    return calculate_gradient(data, label, coefficients) + (penalty*(np.sum(coefficients)))\n",
    "\n",
    "def regularized_gradient_descent(data, label,coefficients, learning_rate,penalty):\n",
    "    loss_history = np.zeros((0, 1))\n",
    "    while True:\n",
    "        gradient = regularized_calculate_gradient(data, label, coefficients, penalty)\n",
    "        coefficients = coefficients - (gradient.reshape(3,1) * learning_rate)\n",
    "        loss_history = np.append(loss_history, regularized_calculate_loss(data, label, coefficients, penalty))\n",
    "        if (len(loss_history) > 1 and np.abs(loss_history[-1] - loss_history[-2]) < 1e-5):\n",
    "            break\n",
    "    return loss_history, coefficients"
   ]
  },
  {
   "cell_type": "code",
   "execution_count": null,
   "metadata": {},
   "outputs": [],
   "source": [
    "learningRate = 0.1\n",
    "coefficients = np.random.normal(0,0.5,3).reshape(3,1)\n",
    "\n",
    "penalty = 1e-8\n",
    "\n",
    "cost_history, params_optimal = regularized_gradient_descent(R1_TRAIN, TRAIN_LABELS, coefficients, learningRate, penalty)\n",
    "\n",
    "plt.figure(figsize=(8, 8))\n",
    "plt.plot(range(len(cost_history)), cost_history, 'b')\n",
    "\n",
    "plt.title(\"Convergence Graph of Regularized Loss Function\")\n",
    "plt.xlabel(\"Number of Iterations\")\n",
    "plt.ylabel(\"Loss\")\n",
    "plt.show()\n"
   ]
  },
  {
   "cell_type": "code",
   "execution_count": null,
   "metadata": {},
   "outputs": [],
   "source": [
    "accuracy(params_optimal, R1_TEST, TEST_LABELS)"
   ]
  },
  {
   "cell_type": "markdown",
   "metadata": {},
   "source": [
    "**(10 points)** Implement a 5-fold cross validation procedure to find the optimal $\\lambda$ value for both Representation 1 and 2. Experiment with at least three different $\\lambda$ values between 0 and 1. Report the mean/std of cross validation accuracy of every representation/parameter combination as a table and clearly mark the best configuration in your report. "
   ]
  },
  {
   "cell_type": "code",
   "execution_count": 9,
   "metadata": {},
   "outputs": [
    {
     "name": "stdout",
     "output_type": "stream",
     "text": [
      "1.0\n",
      "1.0\n",
      "1.0\n",
      "0.21794871794871795\n",
      "0.0\n",
      "0.9968051118210862\n",
      "0.9967948717948718\n",
      "0.9871794871794872\n",
      "0.6762820512820513\n",
      "0.40705128205128205\n",
      "0.9936102236421726\n",
      "0.9935897435897436\n",
      "0.9871794871794872\n",
      "0.8942307692307693\n",
      "0.8397435897435898\n",
      "0.9904153354632588\n",
      "0.9871794871794872\n",
      "0.9871794871794872\n",
      "0.9230769230769231\n",
      "0.8910256410256411\n",
      "0.9904153354632588\n",
      "0.9839743589743589\n",
      "0.9871794871794872\n",
      "0.9326923076923077\n",
      "0.9038461538461539\n",
      "[[1.         1.         1.         0.21794872 0.        ]\n",
      " [0.99680511 0.99679487 0.98717949 0.67628205 0.40705128]\n",
      " [0.99361022 0.99358974 0.98717949 0.89423077 0.83974359]\n",
      " [0.99041534 0.98717949 0.98717949 0.92307692 0.89102564]\n",
      " [0.99041534 0.98397436 0.98717949 0.93269231 0.90384615]]\n"
     ]
    }
   ],
   "source": [
    "K_VALIDATION = 5\n",
    "\n",
    "SPLITTED_TRAIN_1 = np.array_split(R1_TRAIN,K_VALIDATION)\n",
    "SPLITTED_LABEL_1 = np.array_split(TRAIN_LABELS,K_VALIDATION)\n",
    "\n",
    "penalty_parameters = [1e-1, 1e-2, 1e-3, 1e-4, 1e-5]\n",
    "learning_rate = 0.1\n",
    "\n",
    "accuracy_matrix = np.zeros((5,5))\n",
    "\n",
    "for itr_1 in range(K_VALIDATION):\n",
    "    current_penalty = penalty_parameters[itr_1]\n",
    "    for itr_2 in range(K_VALIDATION):\n",
    "        coefficients = np.random.normal(0,0.5,3).reshape(3,1)\n",
    "        CROSS_TRAIN_1 = np.empty((0,3))\n",
    "        CROSS_LABEL_1 = np.empty((0,1))\n",
    "        for part in range(K_VALIDATION):\n",
    "            if part != itr_2:\n",
    "                CROSS_TRAIN_1 = np.vstack((CROSS_TRAIN_1, SPLITTED_TRAIN_1[part]))\n",
    "                CROSS_LABEL_1 = np.vstack((CROSS_LABEL_1, SPLITTED_LABEL_1[part]))\n",
    "        _, params_optimal = regularized_gradient_descent(CROSS_TRAIN_1, CROSS_LABEL_1, coefficients, learning_rate, current_penalty)\n",
    "        p = accuracy(params_optimal, SPLITTED_TRAIN_1[itr_2], SPLITTED_LABEL_1[itr_2])\n",
    "        accuracy_matrix[itr_1][itr_2] = p\n",
    "\n",
    "print(accuracy_matrix)\n",
    "\n",
    "\n",
    "\n",
    "\n"
   ]
  },
  {
   "cell_type": "markdown",
   "metadata": {},
   "source": [
    "## Task 3: Evaluation (25 Pts)"
   ]
  },
  {
   "cell_type": "markdown",
   "metadata": {},
   "source": [
    "**(5 points)** Train the logistic regression classifier on Representation 1 and 2 with the best learning rate you decide. Similarly, train the regularized logistic regression classifier with the best $\\lambda$ you obtained by 5-fold cross validation. Report the training and test classification accuracy as \n",
    "\\begin{align*}\n",
    "\\frac{\\text{number of correctly classified samples}}{\\text{total number of samples}}x100\n",
    "\\end{align*}"
   ]
  },
  {
   "cell_type": "code",
   "execution_count": null,
   "metadata": {},
   "outputs": [],
   "source": []
  },
  {
   "cell_type": "markdown",
   "metadata": {},
   "source": [
    "**(15 points)** Visualize the decision boundary (the line that is given by $\\mathbf{w}^{T}x=0$) obtained from the logistic regression classifier learned without regularization. For this purpose, use only Representation 1. Provide two scatter plots for training and test data points with the decision boundary shown on each of the plots."
   ]
  },
  {
   "cell_type": "code",
   "execution_count": null,
   "metadata": {},
   "outputs": [],
   "source": []
  },
  {
   "cell_type": "markdown",
   "metadata": {},
   "source": [
    "**(5 points)** Comment on your work in your report. Include the answers for the following questions in your discussion. \n",
    "\n",
    "* Did regularization improve the generalization performance (did it help reducing the gap between training and test accuracies/errors)? Did you observe any difference between using Representation 1 and 2?\n",
    "* Which feature set did give the best results? Which one is more discriminative?\n",
    "* What would be your next step to improve test accuracy? "
   ]
  }
 ],
 "metadata": {
  "kernelspec": {
   "display_name": "Python 3",
   "language": "python",
   "name": "python3"
  },
  "language_info": {
   "codemirror_mode": {
    "name": "ipython",
    "version": 3
   },
   "file_extension": ".py",
   "mimetype": "text/x-python",
   "name": "python",
   "nbconvert_exporter": "python",
   "pygments_lexer": "ipython3",
   "version": "3.7.7"
  }
 },
 "nbformat": 4,
 "nbformat_minor": 2
}
