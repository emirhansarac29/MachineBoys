{
 "cells": [
  {
   "cell_type": "markdown",
   "metadata": {},
   "source": [
    "<h1><center>CMPE 462 - Project 2<br>Implementing an SVM Classifier<br>Due: May 18, 2020, 23:59</center></h1>"
   ]
  },
  {
   "cell_type": "markdown",
   "metadata": {},
   "source": [
    "* **Student ID1:** 2015400003\n",
    "* **Student ID2:**\n",
    "* **Student ID3:**"
   ]
  },
  {
   "cell_type": "markdown",
   "metadata": {},
   "source": [
    "## Overview\n",
    "\n",
    "In this project, you are going to implement SVM. For this purpose, a data set (data.mat) is given to you. You can load the mat dataset into Python using the function `loadmat` in `Scipy.io`. When you load the data, you will obtain a dictionary object, where `X` stores the data matrix and `Y` stores the labels. You can use the first 150 samples for training and the rest for testing. In this project, you will use the software package [`LIBSVM`](http://www.csie.ntu.edu.tw/~cjlin/libsvm/) to implement SVM. Note that `LIBSVM` has a [`Python interface`](https://github.com/cjlin1/libsvm/tree/master/python), so you can call the SVM functions in Python. "
   ]
  },
  {
   "cell_type": "code",
   "execution_count": 1,
   "metadata": {},
   "outputs": [],
   "source": [
    "# Install a pip package in the current Jupyter kernel\n",
    "#import sys\n",
    "#!{sys.executable} -m pip install libsvm"
   ]
  },
  {
   "cell_type": "code",
   "execution_count": 2,
   "metadata": {},
   "outputs": [],
   "source": [
    "from scipy.io import loadmat\n",
    "import numpy as np\n",
    "from libsvm.svmutil import *\n",
    "import io\n",
    "from contextlib import redirect_stdout"
   ]
  },
  {
   "cell_type": "markdown",
   "metadata": {},
   "source": [
    "## Task 1 - 30 pts\n",
    "\n",
    "Train a hard margin linear SVM and report both train and test classification accuracy."
   ]
  },
  {
   "cell_type": "code",
   "execution_count": 3,
   "metadata": {},
   "outputs": [
    {
     "name": "stdout",
     "output_type": "stream",
     "text": [
      "Accuracy = 100% (150/150) (classification)\n",
      "Accuracy = 76.6667% (92/120) (classification)\n"
     ]
    }
   ],
   "source": [
    "mat_data = loadmat('data.mat')\n",
    "\n",
    "x, y = mat_data['X'], np.squeeze(mat_data['Y'])\n",
    "\n",
    "train_x, test_x = x[:150], x[150:]\n",
    "train_y, test_y = y[:150], y[150:]\n",
    "\n",
    "SVM_PROBLEM = svm_problem(train_y, train_x)\n",
    "\n",
    "# Setting c to a large value here (99..9) to train hard margin SVM.\n",
    "hard_svm_parameter = svm_parameter('-c 999999999')\n",
    "hard_svm_model = svm_train(SVM_PROBLEM, hard_svm_parameter)\n",
    "\n",
    "train_res=svm_predict(train_y, train_x, hard_svm_model)\n",
    "test_res=svm_predict(test_y, test_x, hard_svm_model)\n",
    "\n",
    "# Accuracy:\n",
    "# print(train_res[1][0])\n",
    "# print(test_res[1][0])"
   ]
  },
  {
   "cell_type": "markdown",
   "metadata": {},
   "source": [
    "## Task 2 - 40 pts\n",
    "\n",
    "Train soft margin SVM for different values of the parameter $C$, and with different kernel functions. Systematically report your results. For instance, report the performances of different kernels for a fixed $C$, then report the performance for different $C$ values for a fixed kernel, and so on."
   ]
  },
  {
   "cell_type": "code",
   "execution_count": 4,
   "metadata": {},
   "outputs": [],
   "source": [
    "kernels = [0,1,2,3]\n",
    "\n",
    "# Realistic c values needed here. Current value list contains powers of 2. \n",
    "c_vals = [2**x for x in range(5)] \n",
    "\n",
    "results = {}\n",
    "for k in kernels:\n",
    "    k_res = {}\n",
    "    for c in c_vals:\n",
    "        soft_svm_parameter = svm_parameter('-c {} -t {}'.format(c,k))\n",
    "        soft_svm_model = svm_train(SVM_PROBLEM, soft_svm_parameter)\n",
    "        trap = io.StringIO()\n",
    "        with redirect_stdout(trap):\n",
    "            # svm_predict prints accuracy to stdout. Surpressing here.\n",
    "            train_res=svm_predict(train_y, train_x, soft_svm_model)\n",
    "            test_res=svm_predict(test_y, test_x, soft_svm_model)\n",
    "        k_res[c] = (train_res[1][0], test_res[1][0], soft_svm_model) \n",
    "    results[k] = k_res        "
   ]
  },
  {
   "cell_type": "code",
   "execution_count": 5,
   "metadata": {},
   "outputs": [
    {
     "name": "stdout",
     "output_type": "stream",
     "text": [
      "Kernel: 0\n",
      "C: 1 || Train: 86.7 , Test: 85.0 , Vector count: 58\n",
      "C: 2 || Train: 88.0 , Test: 83.3 , Vector count: 56\n",
      "C: 4 || Train: 88.7 , Test: 80.8 , Vector count: 54\n",
      "C: 8 || Train: 88.7 , Test: 81.7 , Vector count: 52\n",
      "C: 16 || Train: 88.7 , Test: 81.7 , Vector count: 50\n",
      "==========\n",
      "Kernel: 1\n",
      "C: 1 || Train: 86.0 , Test: 82.5 , Vector count: 118\n",
      "C: 2 || Train: 88.7 , Test: 83.3 , Vector count: 100\n",
      "C: 4 || Train: 90.0 , Test: 81.7 , Vector count: 90\n",
      "C: 8 || Train: 92.7 , Test: 82.5 , Vector count: 87\n",
      "C: 16 || Train: 95.3 , Test: 81.7 , Vector count: 84\n",
      "==========\n",
      "Kernel: 2\n",
      "C: 1 || Train: 86.7 , Test: 84.2 , Vector count: 83\n",
      "C: 2 || Train: 88.7 , Test: 82.5 , Vector count: 76\n",
      "C: 4 || Train: 90.7 , Test: 83.3 , Vector count: 76\n",
      "C: 8 || Train: 94.7 , Test: 78.3 , Vector count: 73\n",
      "C: 16 || Train: 96.0 , Test: 77.5 , Vector count: 73\n",
      "==========\n",
      "Kernel: 3\n",
      "C: 1 || Train: 82.7 , Test: 84.2 , Vector count: 79\n",
      "C: 2 || Train: 84.7 , Test: 85.0 , Vector count: 69\n",
      "C: 4 || Train: 82.7 , Test: 82.5 , Vector count: 61\n",
      "C: 8 || Train: 82.0 , Test: 82.5 , Vector count: 57\n",
      "C: 16 || Train: 78.0 , Test: 80.8 , Vector count: 53\n",
      "==========\n"
     ]
    }
   ],
   "source": [
    "for k,res in results.items():\n",
    "    print(\"Kernel:\",k)\n",
    "    for c,r in res.items():\n",
    "        print(\"C:\", c, \"|| Train:\", round(r[0], 1), \", Test:\", round(r[1], 1), \", Vector count:\", len(r[2].get_sv_indices()))\n",
    "    print(\"==========\")    \n",
    "        "
   ]
  },
  {
   "cell_type": "markdown",
   "metadata": {},
   "source": [
    "## Task 3 - 15 pts\n",
    "\n",
    "Please report how the number of support vectors changes as the value of $C$ increases (while all other parameters remain the same). Discuss whether your observations match the theory."
   ]
  },
  {
   "cell_type": "code",
   "execution_count": 6,
   "metadata": {},
   "outputs": [
    {
     "name": "stdout",
     "output_type": "stream",
     "text": [
      "C: 1 || 79\n",
      "C: 2 || 69\n",
      "C: 4 || 61\n",
      "C: 8 || 57\n",
      "C: 16 || 53\n"
     ]
    }
   ],
   "source": [
    "fixed_kernel_param = 3 # arbitrarily chosen.\n",
    "\n",
    "for c,r in results[fixed_kernel_param].items():\n",
    "    print(\"C:\", c, \"||\", len(r[2].get_sv_indices()))"
   ]
  },
  {
   "cell_type": "markdown",
   "metadata": {},
   "source": [
    "## Task 4 - 15 pts\n",
    "\n",
    "Please investigate the changes in the hyperplane when you remove one of the support vectors, vs., one data point that is not a support vector."
   ]
  },
  {
   "cell_type": "code",
   "execution_count": 7,
   "metadata": {},
   "outputs": [],
   "source": [
    "# https://stackoverflow.com/questions/10131385/matlab-libsvm-how-to-find-the-w-coefficients"
   ]
  },
  {
   "cell_type": "markdown",
   "metadata": {},
   "source": [
    "### Bonus Task - 10 pts\n",
    "\n",
    "Use Python and [CVXOPT](http://cvxopt.org) QP solver to implement the hard margin SVM. "
   ]
  },
  {
   "cell_type": "code",
   "execution_count": null,
   "metadata": {},
   "outputs": [],
   "source": []
  }
 ],
 "metadata": {
  "kernelspec": {
   "display_name": "Python 3",
   "language": "python",
   "name": "python3"
  },
  "language_info": {
   "codemirror_mode": {
    "name": "ipython",
    "version": 3
   },
   "file_extension": ".py",
   "mimetype": "text/x-python",
   "name": "python",
   "nbconvert_exporter": "python",
   "pygments_lexer": "ipython3",
   "version": "3.7.7"
  }
 },
 "nbformat": 4,
 "nbformat_minor": 4
}
